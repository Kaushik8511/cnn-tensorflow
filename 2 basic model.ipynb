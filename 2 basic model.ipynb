{
 "cells": [
  {
   "cell_type": "markdown",
   "metadata": {},
   "source": [
    "# basic understanding of Model calculation"
   ]
  },
  {
   "cell_type": "code",
   "execution_count": 5,
   "metadata": {},
   "outputs": [],
   "source": [
    "import tensorflow as tf\n",
    "import numpy as np"
   ]
  },
  {
   "cell_type": "code",
   "execution_count": 9,
   "metadata": {},
   "outputs": [
    {
     "name": "stdout",
     "output_type": "stream",
     "text": [
      "[[-2.7875097 ]\n",
      " [-1.2628133 ]\n",
      " [ 1.1622088 ]\n",
      " [ 0.65223515]\n",
      " [-2.388616  ]\n",
      " [-0.5554229 ]\n",
      " [-4.0109906 ]\n",
      " [ 0.08955747]\n",
      " [ 1.1355174 ]\n",
      " [-1.0230819 ]]\n"
     ]
    }
   ],
   "source": [
    "inputs=np.random.randn(10,10)\n",
    "weights=np.random.randn(10,1)\n",
    "\n",
    "with tf.Graph().as_default():\n",
    "    x=tf.placeholder(shape=(10,10),name='imputs',dtype=tf.float32)\n",
    "    w=tf.placeholder(shape=(10,1),name='weights',dtype=tf.float32)\n",
    "    b=tf.fill((10,1),-0.75)\n",
    "    s=tf.Session()\n",
    "    result=s.run(tf.matmul(x,w)+b,feed_dict={x:inputs,w:weights})\n",
    "    s.close()\n",
    "    print(result)"
   ]
  }
 ],
 "metadata": {
  "kernelspec": {
   "display_name": "Python 3",
   "language": "python",
   "name": "python3"
  },
  "language_info": {
   "codemirror_mode": {
    "name": "ipython",
    "version": 3
   },
   "file_extension": ".py",
   "mimetype": "text/x-python",
   "name": "python",
   "nbconvert_exporter": "python",
   "pygments_lexer": "ipython3",
   "version": "3.6.9"
  }
 },
 "nbformat": 4,
 "nbformat_minor": 2
}
