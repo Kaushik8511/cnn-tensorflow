{
 "cells": [
  {
   "cell_type": "code",
   "execution_count": 21,
   "metadata": {},
   "outputs": [],
   "source": [
    "import tensorflow as tf\n",
    "import numpy as np"
   ]
  },
  {
   "cell_type": "markdown",
   "metadata": {},
   "source": [
    "# get started with tensorflow"
   ]
  },
  {
   "cell_type": "code",
   "execution_count": 22,
   "metadata": {},
   "outputs": [
    {
     "name": "stdout",
     "output_type": "stream",
     "text": [
      "b'tensorflow'\n"
     ]
    }
   ],
   "source": [
    "hello = tf.constant('tensorflow',name='hello')\n",
    "# print(hello)\n",
    "s=tf.Session()\n",
    "print(s.run(hello))\n",
    "s.close()"
   ]
  },
  {
   "cell_type": "markdown",
   "metadata": {},
   "source": [
    "# constant,Variable and placeholder"
   ]
  },
  {
   "cell_type": "code",
   "execution_count": 23,
   "metadata": {},
   "outputs": [
    {
     "name": "stdout",
     "output_type": "stream",
     "text": [
      "30\n"
     ]
    }
   ],
   "source": [
    "x=tf.constant(10,name='x')\n",
    "y=tf.Variable(x*3,name='y')\n",
    "init=tf.initialize_all_variables()\n",
    "s=tf.Session()\n",
    "s.run(init)\n",
    "print(s.run(y))\n",
    "s.close()"
   ]
  },
  {
   "cell_type": "code",
   "execution_count": 30,
   "metadata": {},
   "outputs": [
    {
     "name": "stdout",
     "output_type": "stream",
     "text": [
      "[[-0.5433623  -1.5250026  -0.09137992  3.324454  ]\n",
      " [-1.8446872  -1.9286716  -0.07383522  1.7679594 ]\n",
      " [ 1.9174538   1.6706529   0.05243629 -0.8588033 ]]\n"
     ]
    }
   ],
   "source": [
    "ad=np.random.randn(3,2)\n",
    "bd=np.random.randn(2,4)\n",
    "a=tf.placeholder(shape=(3,2),dtype=tf.float32)\n",
    "b=tf.placeholder(shape=(2,4),dtype=tf.float32)\n",
    "c=tf.matmul(a,b)\n",
    "s=tf.Session()\n",
    "print(s.run(c,feed_dict={a:ad,b:bd}))\n",
    "s.close()"
   ]
  },
  {
   "cell_type": "markdown",
   "metadata": {},
   "source": [
    "# random in tensorflow\n",
    "        1) random_normal(shape,mean,stddev)\n",
    "        2) random_uniforn(shape,min,max)\n",
    "        3) truncate_normal(shape,mean,stddev)"
   ]
  },
  {
   "cell_type": "code",
   "execution_count": 38,
   "metadata": {},
   "outputs": [
    {
     "name": "stdout",
     "output_type": "stream",
     "text": [
      "[[ 2.7598767  -1.3818588  -2.7006185 ]\n",
      " [ 1.5057583   1.4877785   3.5413609 ]\n",
      " [ 0.82930446 -1.5627732   3.2373977 ]\n",
      " [-1.042038    2.8824954   3.665261  ]]\n"
     ]
    }
   ],
   "source": [
    "a=tf.random_normal((4,3),0,1)\n",
    "b=tf.random_uniform((4,3),-3,3)\n",
    "s=tf.Session()\n",
    "print(s.run(a+b))\n",
    "s.close()"
   ]
  }
 ],
 "metadata": {
  "kernelspec": {
   "display_name": "Python 3",
   "language": "python",
   "name": "python3"
  },
  "language_info": {
   "codemirror_mode": {
    "name": "ipython",
    "version": 3
   },
   "file_extension": ".py",
   "mimetype": "text/x-python",
   "name": "python",
   "nbconvert_exporter": "python",
   "pygments_lexer": "ipython3",
   "version": "3.6.9"
  }
 },
 "nbformat": 4,
 "nbformat_minor": 2
}
