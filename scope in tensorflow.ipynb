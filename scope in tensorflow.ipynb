{
 "cells": [
  {
   "cell_type": "code",
   "execution_count": 2,
   "metadata": {},
   "outputs": [],
   "source": [
    "import tensorflow as tf\n",
    "import numpy as np"
   ]
  },
  {
   "cell_type": "code",
   "execution_count": 29,
   "metadata": {},
   "outputs": [],
   "source": [
    "def fun1(inputs):\n",
    "    w_1=tf.Variable(tf.random_uniform([784,120],-1,1),name='w_1',dtype=tf.float32)\n",
    "    b_1=tf.Variable(tf.zeros([120]),name='b_1',dtype=tf.float32)\n",
    "    w_2=tf.Variable(tf.random_uniform([120,10],-1,1),name='w_2',dtype=tf.float32)\n",
    "    b_2=tf.Variable(tf.zeros([10]),name='b_2',dtype=tf.float32)\n",
    "    print(inputs.shape,w_1.shape)\n",
    "    layer1=tf.matmul(inputs,w_1)+b_1\n",
    "    layer2=tf.matmul(layer1,w_2)+b_2\n",
    "    print('names of weights parameter : ')\n",
    "    print(w_1.name,w_2.name)\n",
    "    print('names of bias parameter : ')\n",
    "    print(b_1.name,b_2.name)\n",
    "    return layer2"
   ]
  },
  {
   "cell_type": "code",
   "execution_count": 30,
   "metadata": {},
   "outputs": [
    {
     "name": "stdout",
     "output_type": "stream",
     "text": [
      "(1000, 784) (784, 120)\n",
      "names of weights parameter : \n",
      "w_1_5:0 w_2_4:0\n",
      "names of bias parameter : \n",
      "b_1_4:0 b_2_4:0\n",
      "(1000, 784) (784, 120)\n",
      "names of weights parameter : \n",
      "w_1_6:0 w_2_5:0\n",
      "names of bias parameter : \n",
      "b_1_5:0 b_2_5:0\n"
     ]
    }
   ],
   "source": [
    "ip=tf.placeholder(dtype=tf.float32,shape=[1000,784],name='input')\n",
    "x=fun1(ip)\n",
    "ip2=tf.placeholder(dtype=tf.float32,shape=[1000,784],name='input1')\n",
    "y=fun1(ip2)"
   ]
  },
  {
   "cell_type": "markdown",
   "metadata": {},
   "source": [
    "### we can see that at each time when we calling func1 it creates new variable. which is not good for us because we call a function many times in our model and we want same variables at each time hence we use get_variables instead of variable which first check that the any variable is present of that name or not. If it is then it wont create new variable and if  variabe with that name is not present  then it creates variable of that name."
   ]
  },
  {
   "cell_type": "markdown",
   "metadata": {},
   "source": [
    "# lets see how it works :"
   ]
  },
  {
   "cell_type": "code",
   "execution_count": 47,
   "metadata": {},
   "outputs": [],
   "source": [
    "def fun(inputs,w_shape,b_shape):\n",
    "    w_init=tf.random_uniform_initializer(minval=-1,maxval=1)\n",
    "    b_init=tf.constant_initializer(value=0)\n",
    "    w=tf.get_variable('W',w_shape,initializer=w_init)\n",
    "    b=tf.get_variable('b',b_shape,initializer=b_init)\n",
    "    print(w.name,b.name)\n",
    "    return tf.matmul(inputs,w)+b\n",
    "\n",
    "def fun2(inputs):\n",
    "    with tf.variable_scope('layer1') as scope:\n",
    "        out_1=fun(inputs,[784,120],[120])\n",
    "    with tf.variable_scope('layer2') as scope:\n",
    "        out_2=fun(out_1,[120,10],[10])\n",
    "    return out_2"
   ]
  },
  {
   "cell_type": "code",
   "execution_count": 48,
   "metadata": {},
   "outputs": [
    {
     "name": "stdout",
     "output_type": "stream",
     "text": [
      "shared_variables/layer1/W:0 shared_variables/layer1/b:0\n",
      "shared_variables/layer2/W:0 shared_variables/layer2/b:0\n",
      "shared_variables/layer1/W:0 shared_variables/layer1/b:0\n",
      "shared_variables/layer2/W:0 shared_variables/layer2/b:0\n"
     ]
    }
   ],
   "source": [
    "with tf.variable_scope('shared_variables',reuse=True) as scope:\n",
    "    ip3=tf.placeholder(dtype=tf.float32,shape=[1000,784],name='input')\n",
    "    x=fun2(ip3)\n",
    "    scope.reuse_variables()\n",
    "    ip4=tf.placeholder(dtype=tf.float32,shape=[1000,784],name='input1')\n",
    "    y=fun2(ip4)\n"
   ]
  },
  {
   "cell_type": "markdown",
   "metadata": {},
   "source": [
    "# we can see that at each time variable is same as called previous"
   ]
  }
 ],
 "metadata": {
  "kernelspec": {
   "display_name": "Python 3",
   "language": "python",
   "name": "python3"
  },
  "language_info": {
   "codemirror_mode": {
    "name": "ipython",
    "version": 3
   },
   "file_extension": ".py",
   "mimetype": "text/x-python",
   "name": "python",
   "nbconvert_exporter": "python",
   "pygments_lexer": "ipython3",
   "version": "3.6.9"
  }
 },
 "nbformat": 4,
 "nbformat_minor": 2
}
