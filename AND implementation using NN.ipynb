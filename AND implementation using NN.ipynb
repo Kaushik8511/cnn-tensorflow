{
 "cells": [
  {
   "cell_type": "code",
   "execution_count": 93,
   "metadata": {},
   "outputs": [],
   "source": [
    "import numpy as np\n",
    "import pandas as pd\n",
    "import matplotlib.pyplot as plt"
   ]
  },
  {
   "cell_type": "code",
   "execution_count": 94,
   "metadata": {},
   "outputs": [
    {
     "data": {
      "image/png": "[encoded data removed]",
      "text/plain": [
       "<Figure size 576x360 with 1 Axes>"
      ]
     },
     "metadata": {
      "needs_background": "light"
     },
     "output_type": "display_data"
    }
   ],
   "source": [
    "data=pd.DataFrame({\n",
    "    'X2':[0,0,1,1],\n",
    "    'X1':[0,1,0,1],\n",
    "    'y':[0,0,0,1]\n",
    "})\n",
    "data.insert(0,'ones',1)\n",
    "X=data.iloc[:,:3]\n",
    "y=data.iloc[:,3:]\n",
    "pos=data[data['y']==1]\n",
    "neg=data[data['y']==0]\n",
    "fig,axs=plt.subplots(figsize=(8,5))\n",
    "axs.scatter(pos['X1'],pos['X2'],c='m',s=30,marker='*')\n",
    "axs.scatter(neg['X1'],neg['X2'],c='k',s=30,marker='D')\n",
    "plt.show()"
   ]
  },
  {
   "cell_type": "code",
   "execution_count": 95,
   "metadata": {},
   "outputs": [],
   "source": [
    "def sigmoid(z):\n",
    "    return (1/(1+np.exp(-z)))"
   ]
  },
  {
   "cell_type": "code",
   "execution_count": 96,
   "metadata": {},
   "outputs": [],
   "source": [
    "def cal_cost(X,y,weights):\n",
    "    h=sigmoid(X*weights.T)\n",
    "    m=len(X)\n",
    "    return (-(np.sum(np.multiply(y,np.log(h))+np.multiply(1-y,np.log(1-h))))/m)\n",
    "    "
   ]
  },
  {
   "cell_type": "code",
   "execution_count": 97,
   "metadata": {},
   "outputs": [],
   "source": [
    "X=np.matrix(X)\n",
    "y=np.matrix(y)\n",
    "weights=np.matrix(np.array([0,0,0]))"
   ]
  },
  {
   "cell_type": "code",
   "execution_count": 98,
   "metadata": {},
   "outputs": [],
   "source": [
    "def Gradient_descent(X,y,weights,alpha,iters):\n",
    "    temp=np.matrix(np.zeros(weights.shape))\n",
    "    para=int(weights.ravel().shape[1])\n",
    "    cost=np.zeros(iters)\n",
    "    m=len(X)\n",
    "    for i in range(iters):\n",
    "        error=sigmoid(X*weights.T)-y\n",
    "        for j in range(para):\n",
    "            temp1=np.multiply(error,X[:,j])\n",
    "            temp[0,j]=weights[0,j]-(alpha/m)*np.sum(temp1)\n",
    "        weights=temp\n",
    "        cost[i]=cal_cost(X,y,weights)\n",
    "    return weights,cost"
   ]
  },
  {
   "cell_type": "code",
   "execution_count": 99,
   "metadata": {},
   "outputs": [
    {
     "name": "stdout",
     "output_type": "stream",
     "text": [
      "0.006929131958502826\n"
     ]
    },
    {
     "data": {
      "image/png": "[encoded data removed]",
      "text/plain": [
       "<Figure size 432x288 with 1 Axes>"
      ]
     },
     "metadata": {
      "needs_background": "light"
     },
     "output_type": "display_data"
    }
   ],
   "source": [
    "n=25000\n",
    "alpha=0.1\n",
    "a=np.arange(n)\n",
    "final_weights,final_cost=Gradient_descent(X,y,weights,alpha,n)\n",
    "print(final_cost[-1])\n",
    "plt.plot(a,final_cost)\n",
    "plt.show()"
   ]
  },
  {
   "cell_type": "code",
   "execution_count": 111,
   "metadata": {},
   "outputs": [
    {
     "name": "stdout",
     "output_type": "stream",
     "text": [
      "[0, 0, 0, 1]\n",
      "[[-14.07866318   9.27248349   9.27248349]]\n"
     ]
    }
   ],
   "source": [
    "def predict(X,weights):\n",
    "    prob=sigmoid(X*weights.T)\n",
    "    return [1 if temp>=0.5 else 0 for temp in prob]\n",
    "new_x=pd.DataFrame({\n",
    "    'ones':[1,1,1,1],\n",
    "    'X1':[0.9,0.1,0.1,0.7],\n",
    "    'X2':[0.1,0.1,0.9,0.99]\n",
    "})\n",
    "new_x=np.matrix(new_x)\n",
    "\n",
    "y_predicted=predict(new_x,final_weights)\n",
    "print(y_predicted)\n",
    "print(final_weights)"
   ]
  },
  {
   "cell_type": "code",
   "execution_count": 101,
   "metadata": {},
   "outputs": [
    {
     "name": "stdout",
     "output_type": "stream",
     "text": [
      "1\n",
      "[0, 0, 0, 1] [[0]\n",
      " [0]\n",
      " [0]\n",
      " [1]]\n"
     ]
    }
   ],
   "source": [
    "y_predicted=predict(X,final_weights)\n",
    "corr = [1 if (p==1 and q==1)or(p==0 and q==0) else 0 for (p,q) in zip(y_predicted,y)]\n",
    "if all(corr):\n",
    "    print(1)\n",
    "else:\n",
    "    accuracy=(sum(map(int,corr))%len(corr))\n",
    "    print(accuracy)\n",
    "print(y_predicted,y)"
   ]
  }
 ],
 "metadata": {
  "kernelspec": {
   "display_name": "Python 3",
   "language": "python",
   "name": "python3"
  },
  "language_info": {
   "codemirror_mode": {
    "name": "ipython",
    "version": 3
   },
   "file_extension": ".py",
   "mimetype": "text/x-python",
   "name": "python",
   "nbconvert_exporter": "python",
   "pygments_lexer": "ipython3",
   "version": "3.7.3"
  }
 },
 "nbformat": 4,
 "nbformat_minor": 2
}
