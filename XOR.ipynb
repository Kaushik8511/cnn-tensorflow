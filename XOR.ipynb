{
 "cells": [
  {
   "cell_type": "code",
   "execution_count": 85,
   "metadata": {},
   "outputs": [],
   "source": [
    "import numpy as np\n",
    "import pandas as pd\n",
    "import matplotlib.pyplot as plt"
   ]
  },
  {
   "cell_type": "code",
   "execution_count": 72,
   "metadata": {},
   "outputs": [
    {
     "data": {
      "image/png": "[encoded data removed]",
      "text/plain": [
       "<Figure size 576x360 with 1 Axes>"
      ]
     },
     "metadata": {
      "needs_background": "light"
     },
     "output_type": "display_data"
    }
   ],
   "source": [
    "data=pd.DataFrame({\n",
    "    'ones':[1,1,1,1],\n",
    "    \"X2\":[0,0,1,1],\n",
    "    'X1':[0,1,0,1],\n",
    "    \"y\":[0,1,1,0]\n",
    "})\n",
    "pos=data[data['y']==1]\n",
    "neg=data[data['y']==0]\n",
    "fig,axs=plt.subplots(figsize=(8,5))\n",
    "axs.scatter(pos['X1'],pos['X2'],c='m',s=30,marker='*')\n",
    "axs.scatter(neg['X1'],neg['X2'],c='k',s=30,marker='D')\n",
    "plt.show()"
   ]
  },
  {
   "cell_type": "code",
   "execution_count": 73,
   "metadata": {},
   "outputs": [],
   "source": [
    "def sigmoid(z):\n",
    "    return (1/(1+np.exp(-z)))"
   ]
  },
  {
   "cell_type": "code",
   "execution_count": 74,
   "metadata": {},
   "outputs": [],
   "source": [
    "theta1=np.matrix(np.zeros((2,3)))\n",
    "theta2=np.matrix(np.zeros((1,3)))\n",
    "X=data.iloc[:,:3]\n",
    "y=data.iloc[:,3:]\n",
    "X=np.matrix(X)\n",
    "y=np.matrix(y)"
   ]
  },
  {
   "cell_type": "code",
   "execution_count": 75,
   "metadata": {},
   "outputs": [],
   "source": [
    "def cal_cost(X,y,theta1,theta2):\n",
    "    temp1=sigmoid(X*theta1.T)\n",
    "    temp1=pd.DataFrame(temp1,columns=['a1','a2'])\n",
    "    temp1.insert(0,'ones',1)\n",
    "    print(temp1)\n",
    "    temp1=np.matrix(temp1)\n",
    "    h=sigmoid(temp1*theta2.T)\n",
    "    print(h)\n",
    "    return((-1/len(X))*np.sum(np.multiply(y,np.log(h))+np.multiply((1-y),np.log(1-h))))"
   ]
  },
  {
   "cell_type": "code",
   "execution_count": 78,
   "metadata": {},
   "outputs": [
    {
     "name": "stdout",
     "output_type": "stream",
     "text": [
      "   ones   a1   a2\n",
      "0     1  0.5  0.5\n",
      "1     1  0.5  0.5\n",
      "2     1  0.5  0.5\n",
      "3     1  0.5  0.5\n",
      "[[0.5]\n",
      " [0.5]\n",
      " [0.5]\n",
      " [0.5]]\n"
     ]
    },
    {
     "data": {
      "text/plain": [
       "0.6931471805599453"
      ]
     },
     "execution_count": 78,
     "metadata": {},
     "output_type": "execute_result"
    }
   ],
   "source": [
    "cost=cal_cost(X,y,theta1,theta2)\n",
    "cost"
   ]
  },
  {
   "cell_type": "code",
   "execution_count": null,
   "metadata": {},
   "outputs": [],
   "source": []
  },
  {
   "cell_type": "code",
   "execution_count": null,
   "metadata": {},
   "outputs": [],
   "source": []
  }
 ],
 "metadata": {
  "kernelspec": {
   "display_name": "Python 3",
   "language": "python",
   "name": "python3"
  },
  "language_info": {
   "codemirror_mode": {
    "name": "ipython",
    "version": 3
   },
   "file_extension": ".py",
   "mimetype": "text/x-python",
   "name": "python",
   "nbconvert_exporter": "python",
   "pygments_lexer": "ipython3",
   "version": "3.7.3"
  }
 },
 "nbformat": 4,
 "nbformat_minor": 2
}
