{
 "cells": [
  {
   "cell_type": "code",
   "execution_count": 2,
   "metadata": {},
   "outputs": [],
   "source": [
    "import tensorflow as tf\n",
    "import numpy as np"
   ]
  },
  {
   "cell_type": "markdown",
   "metadata": {},
   "source": [
    "# Overview\n",
    "    No of nodes in input layer = 28 *28\n",
    "    No of hidden layers=1\n",
    "    No nodes in HL1=1024\n",
    "    No of node in output layer=10"
   ]
  },
  {
   "cell_type": "code",
   "execution_count": 3,
   "metadata": {},
   "outputs": [],
   "source": [
    "input_layer=28*28\n",
    "hidden_layer=1024\n",
    "output_layer=10\n",
    "steps=3000\n",
    "batch=100"
   ]
  },
  {
   "cell_type": "code",
   "execution_count": 14,
   "metadata": {},
   "outputs": [],
   "source": [
    "g=tf.Graph()\n",
    "with g.as_default():\n",
    "    x=tf.placeholder(shape=(batch,input_layer),dtype=tf.float32)\n",
    "    y=tf.placeholder(shape=(batch,output_layer),dtype=tf.float32)\n",
    "    w={\n",
    "        'w1':tf.Variable(tf.random_normal([input_layer,hidden_layer])),\n",
    "        'w2':tf.Variable(tf.random_normal([hidden_layer,output_layer]))\n",
    "    }\n",
    "    b={\n",
    "        'b1':tf.Variable(tf.zeros([hidden_layer])),\n",
    "        'b2':tf.Variable(tf.zeros([output_layer]))\n",
    "    }\n",
    "\n",
    "    def train_model(inputs,w,b):\n",
    "        layer1=tf.nn.relu(tf.add(tf.matmul(inputs,w['w1']),b['b1']))\n",
    "        layer2=tf.add(tf.matmul(layer1,w['w2']),b['b2'])\n",
    "        return layer2\n",
    "\n",
    "    init=tf.global_variables_initializer()\n",
    "    model=train_model(x,w,b)\n",
    "    train_prediction=tf.nn.softmax(model)\n",
    "\n",
    "\n",
    "#     tf_valid_dataset = tf.constant(valid_dataset)\n",
    "#     tf_test_dataset = tf.constant(test_dataset)\n",
    "\n",
    "    loss = tf.reduce_mean(tf.nn.softmax_cross_entropy_with_logits(logits=model,labels= y))    \n",
    "    optimizer = tf.train.GradientDescentOptimizer(0.5).minimize(loss)\n"
   ]
  },
  {
   "cell_type": "code",
   "execution_count": 16,
   "metadata": {},
   "outputs": [
    {
     "ename": "NameError",
     "evalue": "name 'train_dataset' is not defined",
     "output_type": "error",
     "traceback": [
      "\u001b[1;31m---------------------------------------------------------------------------\u001b[0m",
      "\u001b[1;31mNameError\u001b[0m                                 Traceback (most recent call last)",
      "\u001b[1;32m<ipython-input-16-51b4e1c5626f>\u001b[0m in \u001b[0;36m<module>\u001b[1;34m\u001b[0m\n\u001b[0;32m      1\u001b[0m \u001b[1;32mwith\u001b[0m \u001b[0mtf\u001b[0m\u001b[1;33m.\u001b[0m\u001b[0mSession\u001b[0m\u001b[1;33m(\u001b[0m\u001b[0mgraph\u001b[0m\u001b[1;33m=\u001b[0m\u001b[0mg\u001b[0m\u001b[1;33m)\u001b[0m \u001b[1;32mas\u001b[0m \u001b[0msess\u001b[0m\u001b[1;33m:\u001b[0m\u001b[1;33m\u001b[0m\u001b[1;33m\u001b[0m\u001b[0m\n\u001b[0;32m      2\u001b[0m     \u001b[0msess\u001b[0m\u001b[1;33m.\u001b[0m\u001b[0mrun\u001b[0m\u001b[1;33m(\u001b[0m\u001b[0minit\u001b[0m\u001b[1;33m)\u001b[0m\u001b[1;33m\u001b[0m\u001b[1;33m\u001b[0m\u001b[0m\n\u001b[1;32m----> 3\u001b[1;33m     \u001b[0mtotal_batch\u001b[0m \u001b[1;33m=\u001b[0m \u001b[0mint\u001b[0m\u001b[1;33m(\u001b[0m\u001b[0mtrain_dataset\u001b[0m\u001b[1;33m.\u001b[0m\u001b[0mshape\u001b[0m\u001b[1;33m[\u001b[0m\u001b[1;36m0\u001b[0m\u001b[1;33m]\u001b[0m \u001b[1;33m/\u001b[0m \u001b[0mbatch_size\u001b[0m\u001b[1;33m)\u001b[0m\u001b[1;33m\u001b[0m\u001b[1;33m\u001b[0m\u001b[0m\n\u001b[0m\u001b[0;32m      4\u001b[0m \u001b[1;33m\u001b[0m\u001b[0m\n\u001b[0;32m      5\u001b[0m     \u001b[1;32mfor\u001b[0m \u001b[0mepoch\u001b[0m \u001b[1;32min\u001b[0m \u001b[0mrange\u001b[0m\u001b[1;33m(\u001b[0m\u001b[0mnum_steps\u001b[0m\u001b[1;33m)\u001b[0m\u001b[1;33m:\u001b[0m\u001b[1;33m\u001b[0m\u001b[1;33m\u001b[0m\u001b[0m\n",
      "\u001b[1;31mNameError\u001b[0m: name 'train_dataset' is not defined"
     ]
    }
   ],
   "source": [
    "with tf.Session(graph=g) as sess:\n",
    "    sess.run(init)\n",
    "    total_batch = int(train_dataset.shape[0] / batch_size)\n",
    "\n",
    "    for epoch in range(num_steps):    \n",
    "        loss = 0\n",
    "        for i in range(total_batch):\n",
    "            batch_x, batch_y = train_dataset[epoch * batch_size:(epoch+1) * batch_size, :], train_labels[epoch * batch_size:(epoch+1) * batch_size,:]\n",
    "\n",
    "            _, c = sess.run([optimizer, loss], feed_dict={x: batch_x, y: batch_y})\n",
    "            loss = loss + c\n",
    "        loss = loss / total_batch\n",
    "        if epoch % 500 == 0:\n",
    "            print (\"Epoch :\", epoch, \". cost = {:.9f}\".format(avg_cost))\n",
    "            print(\"Minibatch accuracy: %.1f%%\" % accuracy(predictions, batch_labels))\n",
    "            valid_prediction = tf.run(tf_valid_dataset, {x: tf_valid_dataset})\n",
    "            print(\"Validation accuracy: %.1f%%\" % accuracy(valid_prediction.eval(), valid_labels))\n",
    "    test_prediction = tf.run(tf_test_dataset,  {x: tf_test_dataset})\n",
    "    print(\"TEST accuracy: %.1f%%\" % accuracy(test_prediction.eval(), test_labels))"
   ]
  },
  {
   "cell_type": "code",
   "execution_count": null,
   "metadata": {},
   "outputs": [],
   "source": []
  }
 ],
 "metadata": {
  "kernelspec": {
   "display_name": "Python 3",
   "language": "python",
   "name": "python3"
  },
  "language_info": {
   "codemirror_mode": {
    "name": "ipython",
    "version": 3
   },
   "file_extension": ".py",
   "mimetype": "text/x-python",
   "name": "python",
   "nbconvert_exporter": "python",
   "pygments_lexer": "ipython3",
   "version": "3.6.9"
  }
 },
 "nbformat": 4,
 "nbformat_minor": 2
}
