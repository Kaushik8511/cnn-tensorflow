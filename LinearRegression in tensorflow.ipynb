{
 "cells": [
  {
   "cell_type": "code",
   "execution_count": null,
   "metadata": {},
   "outputs": [],
   "source": [
    "import tensorflow as tf\n",
    "import numpy as np\n",
    "# import matplotlib.pyplot as plt"
   ]
  },
  {
   "cell_type": "code",
   "execution_count": null,
   "metadata": {},
   "outputs": [],
   "source": [
    "x=np.random.randn(1000,4)\n",
    "w=[0.3,0.1,0.8,0.2]\n",
    "b1=-0.3\n",
    "\n",
    "noise=np.random.randn(1,1000)*0.1\n",
    "y1=np.matmul(w,x.T)+b1+noise"
   ]
  },
  {
   "cell_type": "code",
   "execution_count": 10,
   "metadata": {},
   "outputs": [],
   "source": [
    "epochs=20\n",
    "result=[]\n",
    "g=tf.Graph()\n",
    "with g.as_default():\n",
    "    X=tf.placeholder(dtype=tf.float32,shape=[None,4])\n",
    "    y=tf.placeholder(dtype=tf.float32,shape=None)\n",
    "    \n",
    "    with tf.name_scope('initialize') as scope:\n",
    "        W=tf.Variable([[0,0,0,0]],dtype=tf.float32,name='weights')\n",
    "        b=tf.Variable(0,dtype=tf.float32,name='bias')\n",
    "        y_predicted=tf.matmul(W,tf.transpose(X))+b\n",
    "        \n",
    "    with tf.name_scope('loss_function') as scope:\n",
    "        loss=tf.reduce_mean(tf.square(y-y_predicted))\n",
    "        \n",
    "    with tf.name_scope('train') as scope:\n",
    "        opt=tf.train.GradientDescentOptimizer(0.5)\n",
    "        train=opt.minimize(loss)\n",
    "    init=tf.global_variables_initializer()"
   ]
  },
  {
   "cell_type": "code",
   "execution_count": 15,
   "metadata": {},
   "outputs": [
    {
     "name": "stdout",
     "output_type": "stream",
     "text": [
      "0 [array([[0.35703248, 0.13170229, 0.8594022 , 0.16822422]], dtype=float32), -0.3320838]\n",
      "5 [array([[0.30351198, 0.09823268, 0.79549074, 0.1999869 ]], dtype=float32), -0.30027717]\n",
      "10 [array([[0.30351475, 0.0982333 , 0.7954953 , 0.19998284]], dtype=float32), -0.30027992]\n",
      "15 [array([[0.30351475, 0.09823331, 0.7954953 , 0.19998284]], dtype=float32), -0.30027992]\n",
      "19 [array([[0.30351475, 0.09823331, 0.7954953 , 0.19998284]], dtype=float32), -0.30027992]\n",
      "[0.3, 0.1, 0.8, 0.2] -0.3\n"
     ]
    }
   ],
   "source": [
    "s=tf.Session(graph=g)\n",
    "s.run(init)\n",
    "for i in range(epochs):\n",
    "    s.run(train,feed_dict={X:x,y:y1})\n",
    "    if(i%5==0):\n",
    "        print(i,s.run([W,b]))\n",
    "        result.append(s.run([W,b]))\n",
    "print(i,s.run([W,b]))\n",
    "print(w,b1)"
   ]
  },
  {
   "cell_type": "code",
   "execution_count": null,
   "metadata": {},
   "outputs": [],
   "source": []
  },
  {
   "cell_type": "code",
   "execution_count": null,
   "metadata": {},
   "outputs": [],
   "source": []
  }
 ],
 "metadata": {
  "kernelspec": {
   "display_name": "Python 3",
   "language": "python",
   "name": "python3"
  },
  "language_info": {
   "codemirror_mode": {
    "name": "ipython",
    "version": 3
   },
   "file_extension": ".py",
   "mimetype": "text/x-python",
   "name": "python",
   "nbconvert_exporter": "python",
   "pygments_lexer": "ipython3",
   "version": "3.6.9"
  }
 },
 "nbformat": 4,
 "nbformat_minor": 2
}
