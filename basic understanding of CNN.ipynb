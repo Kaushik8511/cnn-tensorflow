{
 "cells": [
  {
   "cell_type": "code",
   "execution_count": 3,
   "metadata": {},
   "outputs": [],
   "source": [
    "import tensorflow as tf\n",
    "import numpy as np"
   ]
  },
  {
   "cell_type": "code",
   "execution_count": 37,
   "metadata": {},
   "outputs": [],
   "source": [
    "x_data=tf.random_normal([1,28,28,1])\n",
    "w_data={\n",
    "    'l1':tf.random_normal([3,3,1,32]),\n",
    "    'l2':tf.random_normal([3,3,32,5])\n",
    "}\n",
    "b_data={\n",
    "    'l1':tf.zeros([32]),\n",
    "    'l2':tf.zeros([5])\n",
    "}\n"
   ]
  },
  {
   "cell_type": "code",
   "execution_count": 38,
   "metadata": {},
   "outputs": [],
   "source": [
    "def conv2d(x,w,b):\n",
    "    return tf.nn.relu((tf.nn.conv2d(x,w,strides=[1,1,1,1],padding='SAME'))+b)\n",
    "\n",
    "\n",
    "def maxpool(inputs,k):\n",
    "    return (tf.nn.max_pool(inputs,ksize=[1,k,k,1],strides=[1,k,k,1],padding='SAME'))\n",
    "\n",
    "\n",
    "def full_conn(inputs,weight,bias):\n",
    "    inputs=tf.reshape(inputs,[1,7*7*5])\n",
    "    return(tf.nn.softmax(tf.matmul(inputs,weight)+bias))"
   ]
  },
  {
   "cell_type": "code",
   "execution_count": 39,
   "metadata": {},
   "outputs": [
    {
     "name": "stdout",
     "output_type": "stream",
     "text": [
      "convolution layer 1 shape (1, 28, 28, 32)\n",
      "max pool layer 1 shape  (1, 14, 14, 32)\n",
      "convolution layer 2 shape  (1, 14, 14, 5)\n",
      "max pool layer 2 shape  (1, 7, 7, 5)\n"
     ]
    }
   ],
   "source": [
    "conv1=conv2d(x_data,w_data['l1'],b_data['l1'])\n",
    "print('convolution layer 1 shape',conv1.shape)\n",
    "max_1=maxpool(conv1,2)\n",
    "print('max pool layer 1 shape ',max_1.shape)\n",
    "conv2=conv2d(max_1,w_data['l2'],b_data['l2'])\n",
    "print(\"convolution layer 2 shape \",conv2.shape)\n",
    "max_2=maxpool(conv2,2)\n",
    "print('max pool layer 2 shape ',max_2.shape)\n"
   ]
  },
  {
   "cell_type": "code",
   "execution_count": 40,
   "metadata": {},
   "outputs": [
    {
     "name": "stdout",
     "output_type": "stream",
     "text": [
      "fc layer shape  (1, 1024)\n"
     ]
    }
   ],
   "source": [
    "w=tf.random_normal([7*7*5,1024])\n",
    "b1=tf.random_normal([1024])\n",
    "fc=full_conn(max_2,w,b1)\n",
    "print('fc layer shape ',fc.shape)"
   ]
  },
  {
   "cell_type": "code",
   "execution_count": null,
   "metadata": {},
   "outputs": [],
   "source": []
  }
 ],
 "metadata": {
  "kernelspec": {
   "display_name": "Python 3",
   "language": "python",
   "name": "python3"
  },
  "language_info": {
   "codemirror_mode": {
    "name": "ipython",
    "version": 3
   },
   "file_extension": ".py",
   "mimetype": "text/x-python",
   "name": "python",
   "nbconvert_exporter": "python",
   "pygments_lexer": "ipython3",
   "version": "3.6.9"
  }
 },
 "nbformat": 4,
 "nbformat_minor": 2
}
